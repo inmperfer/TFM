{
 "cells": [
  {
   "cell_type": "code",
   "execution_count": 1,
   "metadata": {
    "collapsed": true
   },
   "outputs": [],
   "source": [
    "from simulator import *"
   ]
  },
  {
   "cell_type": "code",
   "execution_count": 2,
   "metadata": {
    "collapsed": false
   },
   "outputs": [],
   "source": [
    "%matplotlib inline\n",
    "plt.rcParams['image.cmap'] = 'gray'\n",
    "sns.set_style('white')"
   ]
  },
  {
   "cell_type": "markdown",
   "metadata": {},
   "source": [
    "Settings\n",
    "--------"
   ]
  },
  {
   "cell_type": "code",
   "execution_count": 3,
   "metadata": {
    "collapsed": false
   },
   "outputs": [],
   "source": [
    "# resolution\n",
    "res_x = 1920 # pixels\n",
    "res_y = 1440 # pixels\n",
    "\n",
    "# normalized focal length\n",
    "f = 0.5 / np.tan(np.deg2rad(10) / 2)\n",
    "\n",
    "# pixel aspect ratio\n",
    "pixel_ar = 1\n",
    "\n",
    "# normalized principal point\n",
    "ppx = 0.5\n",
    "ppy = 0.5\n",
    "\n",
    "gaussian_noise_sigma = 20e-6 # rad\n",
    "\n",
    "cam = 0"
   ]
  },
  {
   "cell_type": "code",
   "execution_count": 4,
   "metadata": {
    "collapsed": true
   },
   "outputs": [],
   "source": [
    "# magnitude parameters\n",
    "\n",
    "A_pixel = 525 # photonelectrons/s mm\n",
    "sigma_pixel = 525 # photonelectrons/s mm\n",
    "\n",
    "sigma_psf = 0.5 # pixel\n",
    "t_exp = 0.2 # s\n",
    "aperture = 15 # mm\n",
    "\n",
    "base_photons = 19100 # photoelectrons per mm² and second of a magnitude 0 G2 star\n",
    "\n",
    "magnitude_gaussian = 0.01 # mag"
   ]
  },
  {
   "cell_type": "code",
   "execution_count": 5,
   "metadata": {
    "collapsed": true
   },
   "outputs": [],
   "source": [
    "# star count\n",
    "\n",
    "min_true = 3\n",
    "max_true = 100\n",
    "min_false = 0\n",
    "max_false = 10"
   ]
  },
  {
   "cell_type": "markdown",
   "metadata": {},
   "source": [
    "Base Objects\n",
    "--------"
   ]
  },
  {
   "cell_type": "code",
   "execution_count": 6,
   "metadata": {
    "collapsed": true
   },
   "outputs": [],
   "source": [
    "catalog = StarCatalog()"
   ]
  },
  {
   "cell_type": "code",
   "execution_count": 7,
   "metadata": {
    "collapsed": false
   },
   "outputs": [],
   "source": [
    "cameras = [\n",
    "    RectilinearCamera,\n",
    "    EquidistantCamera,\n",
    "    EquisolidAngleCamera,\n",
    "    StereographicCamera,\n",
    "    OrthographicCamera,\n",
    "]\n",
    "\n",
    "camera = cameras[cam](f, (res_x, res_y), pixel_ar, (ppx, ppy))"
   ]
  },
  {
   "cell_type": "code",
   "execution_count": 8,
   "metadata": {
    "collapsed": false
   },
   "outputs": [],
   "source": [
    "detector = StarDetector(A_pixel, sigma_pixel, sigma_psf, t_exp, aperture, base_photons)"
   ]
  },
  {
   "cell_type": "markdown",
   "metadata": {},
   "source": [
    "Scene Creation\n",
    "------------"
   ]
  },
  {
   "cell_type": "code",
   "execution_count": 9,
   "metadata": {
    "collapsed": true
   },
   "outputs": [],
   "source": [
    "num_scenes = 100"
   ]
  },
  {
   "cell_type": "code",
   "execution_count": 10,
   "metadata": {
    "collapsed": false
   },
   "outputs": [],
   "source": [
    "inputs = []\n",
    "outputs = []\n",
    "\n",
    "for i in range(num_scenes):\n",
    "    scene = Scene.random(catalog, camera, detector, min_true, max_true, min_false, max_false, gaussian_noise_sigma=gaussian_noise_sigma, magnitude_gaussian=magnitude_gaussian)\n",
    "    \n",
    "    inputs.append(np.hstack((scene.pos[::, ::-1], scene.magnitudes.reshape(-1, 1))).flatten())\n",
    "    outputs.append(scene.ids)"
   ]
  },
  {
   "cell_type": "code",
   "execution_count": 11,
   "metadata": {
    "collapsed": true
   },
   "outputs": [],
   "source": [
    "def write_csv(filename, lines):\n",
    "    with open(filename, 'w') as f:\n",
    "        for line in lines:\n",
    "            f.write(','.join(str(value) for value in line) + '\\n')"
   ]
  },
  {
   "cell_type": "code",
   "execution_count": 12,
   "metadata": {
    "collapsed": false
   },
   "outputs": [],
   "source": [
    "write_csv('input_sample.csv', inputs)\n",
    "write_csv('result_sample.csv', outputs)"
   ]
  },
  {
   "cell_type": "markdown",
   "metadata": {},
   "source": [
    "### Render the last scene"
   ]
  },
  {
   "cell_type": "code",
   "execution_count": 13,
   "metadata": {
    "collapsed": false
   },
   "outputs": [
    {
     "data": {
      "image/png": "[encoded data removed]",
      "text/plain": [
       "<matplotlib.figure.Figure at 0x7fca4117d320>"
      ]
     },
     "metadata": {},
     "output_type": "display_data"
    }
   ],
   "source": [
    "_ = scene.render(False)"
   ]
  }
 ],
 "metadata": {
  "kernelspec": {
   "display_name": "Python 3",
   "language": "python",
   "name": "python3"
  },
  "language_info": {
   "codemirror_mode": {
    "name": "ipython",
    "version": 3
   },
   "file_extension": ".py",
   "mimetype": "text/x-python",
   "name": "python",
   "nbconvert_exporter": "python",
   "pygments_lexer": "ipython3",
   "version": "3.5.1"
  }
 },
 "nbformat": 4,
 "nbformat_minor": 0
}
